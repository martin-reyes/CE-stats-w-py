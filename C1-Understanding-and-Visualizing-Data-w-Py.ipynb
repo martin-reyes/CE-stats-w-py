{
 "cells": [
  {
   "cell_type": "markdown",
   "id": "c2f7e96e",
   "metadata": {},
   "source": [
    "## Wk1 Intro to Data\n",
    "\n",
    "#### Varibles Types:\n",
    "\n",
    "- Continuous Quantitative: Continuous, Discrete\n",
    "- Categorical/Qualitative: Ordinal (order), Nominal\n",
    "\n",
    "#### Study Design\n",
    "\n",
    "- Confimatory vs. Exploratory\n",
    "    - Confimatory: test falsifiable hypothesis. collect data to address single question\n",
    "    - Exploratory: collect and analyze data without question\n",
    "    - Both informative but be careful with overfitting, multiple testing, and p-hacking. More questions mean more likelihood to drawing a misleading conclusion\n",
    "- Comparative vs. Non-comparative\n",
    "- Observational studies vs Experiments\n",
    "- Power (Analysis): Process to assess whether given study design yield to meaningful findings\n",
    "- Bias: Measurements that are systematically off-target, or sample doesn't represent population"
   ]
  },
  {
   "cell_type": "markdown",
   "id": "6440901a",
   "metadata": {},
   "source": [
    "## Wk2 Univariate Data\n",
    "\n",
    "- Categorical: Frequency Table (`.value_counts()`), Bar Chart, Pie Chart (not recommended)\n",
    "- Quantitative:\n",
    "    - Histograms\n",
    "        - Shape, Center, Spread, Outliers\n",
    "    - Numeircal Summaries\n",
    "        - Min, 1Q, Median, 3Q, Max\n",
    "        - StD, n\n",
    "    - Boxplots\n",
    "        - show 5-number summary and outliers\n",
    "        - show outliers but hide gaps and clusters\n",
    "- Standard (Z) Score: $ \\frac{x - \\mu}{\\sigma} $\n",
    "- Empircal Rule: 68/95/99.7"
   ]
  },
  {
   "cell_type": "markdown",
   "id": "c08c1240",
   "metadata": {},
   "source": [
    "### SciPy.Stats\n",
    "\n",
    "The SciPy.Stats module contains a large number of probability distributions as well as a growing library of statistical functions such as:\n",
    "\n",
    "* Continuous and Discrete Distributions (i.e Normal, Uniform, Binomial, etc.)\n",
    "\n",
    "* Descriptive Statistcs\n",
    "\n",
    "* Statistical Tests (i.e T-Test)"
   ]
  },
  {
   "cell_type": "code",
   "execution_count": 1,
   "id": "328be0a7",
   "metadata": {},
   "outputs": [
    {
     "name": "stdout",
     "output_type": "stream",
     "text": [
      "[ 0.25044333  0.9004512   0.09516733  2.38785434 -0.84010961  0.48256759\n",
      "  0.69276662  0.81724958  0.12649396 -0.88735496]\n"
     ]
    }
   ],
   "source": [
    "from scipy import stats\n",
    "import numpy as np\n",
    "### Print Normal Random Variables\n",
    "print(stats.norm.rvs(size = 10))"
   ]
  },
  {
   "cell_type": "code",
   "execution_count": 2,
   "id": "a81c15a6",
   "metadata": {},
   "outputs": [
    {
     "data": {
      "image/png": "[encoded data removed]",
      "text/plain": [
       "<Figure size 640x480 with 1 Axes>"
      ]
     },
     "metadata": {},
     "output_type": "display_data"
    }
   ],
   "source": [
    "from pylab import *\n",
    "\n",
    "# Create some test data\n",
    "dx = .01\n",
    "X  = np.arange(-2,2,dx)\n",
    "Y  = exp(-X**2)\n",
    "\n",
    "# Normalize the data to a proper PDF\n",
    "Y /= (dx*Y).sum()\n",
    "\n",
    "# Compute the CDF\n",
    "CY = np.cumsum(Y*dx)\n",
    "\n",
    "# Plot both\n",
    "plot(X,Y)\n",
    "plot(X,CY,'r--')\n",
    "\n",
    "plt.show()"
   ]
  },
  {
   "cell_type": "code",
   "execution_count": 3,
   "id": "0a9439b9",
   "metadata": {},
   "outputs": [
    {
     "name": "stdout",
     "output_type": "stream",
     "text": [
      "[0.84134475 0.15865525 0.5        0.84134475 0.9986501  0.99996833\n",
      " 0.02275013 1.        ]\n",
      "[2.41970725e-01 2.41970725e-01 3.98942280e-01 2.41970725e-01\n",
      " 4.43184841e-03 1.33830226e-04 5.39909665e-02 6.07588285e-09]\n"
     ]
    }
   ],
   "source": [
    "from scipy import stats\n",
    "### Compute the Normal CDF of certain values.\n",
    "print(stats.norm.cdf(np.array([1,-1., 0, 1, 3, 4, -2, 6])))\n",
    "print(stats.norm.pdf(np.array([1,-1., 0, 1, 3, 4, -2, 6])))"
   ]
  },
  {
   "cell_type": "markdown",
   "id": "fa4af9db",
   "metadata": {},
   "source": [
    "#### Descriptive Statistics"
   ]
  },
  {
   "cell_type": "code",
   "execution_count": 5,
   "id": "17d1b2a6",
   "metadata": {},
   "outputs": [
    {
     "name": "stdout",
     "output_type": "stream",
     "text": [
      "-3.7897557242248197\n",
      "5.263277329807165\n",
      "0.014061066398468422\n",
      "1.288993862079285\n"
     ]
    },
    {
     "data": {
      "text/plain": [
       "DescribeResult(nobs=1000, minmax=(-3.7897557242248197, 5.263277329807165), mean=0.014061066398468422, variance=1.2902841462255106, skewness=0.21652778283120955, kurtosis=1.055594041706331)"
      ]
     },
     "execution_count": 5,
     "metadata": {},
     "output_type": "execute_result"
    }
   ],
   "source": [
    "np.random.seed(282629734)\n",
    "\n",
    "# Generate 1000 Student’s T continuous random variables.\n",
    "x = stats.t.rvs(10, size=1000)\n",
    "# Do some descriptive statistics\n",
    "print(x.min())   # equivalent to np.min(x)\n",
    "\n",
    "print(x.max())   # equivalent to np.max(x)\n",
    "\n",
    "print(x.mean())  # equivalent to np.mean(x)\n",
    "\n",
    "print(x.var())   # equivalent to np.var(x))\n",
    "\n",
    "stats.describe(x)"
   ]
  },
  {
   "cell_type": "markdown",
   "id": "8baafb20",
   "metadata": {},
   "source": [
    "Example of pivot table on "
   ]
  },
  {
   "cell_type": "code",
   "execution_count": null,
   "id": "398fbd5e",
   "metadata": {},
   "outputs": [],
   "source": [
    "dx = da.loc[~da.DMDEDUC2x.isin([\"Don't know\", \"Missing\"]), :]  # Eliminate rare/missing values\n",
    "dx = dx.groupby([\"agegrp\", \"RIAGENDRx\"])[\"DMDEDUC2x\"]\n",
    "dx = dx.value_counts()\n",
    "dx = dx.unstack() # Restructure the results from 'long' to 'wide' (PIVOT)\n",
    "# dx = dx.apply(lambda x: x/x.sum(), axis=1) # Normalize within each stratum to get proportions\n",
    "dx"
   ]
  },
  {
   "cell_type": "markdown",
   "id": "8acfe67a",
   "metadata": {},
   "source": [
    "## Wk3 Multivariate Data\n",
    "\n",
    "- Two-way Table:\n",
    "    - Marginal Distribution\n",
    "    - Conditional Distribution\n",
    "- Multivariate Categorical:\n",
    "    - Graphs: (Univariate/ Side-by-side / Stacked) bar charts and mosaic plots\n",
    "- Multivariate Quantitative:\n",
    "    - Graphs: Univariate histograms, scatterplot (jointplot includes histogram with scatterplot)\n",
    "    - Association: **Type** (e.g. none, linear), **Direction** (positive/negative), **Strength**\n",
    "        - Correlation: Pearson correlation (R or $\\rho$)\n",
    "            - Correlation does not imply causation (may be confounding variables)\n",
    "    - Identify potential outliers\n",
    " "
   ]
  },
  {
   "cell_type": "code",
   "execution_count": 6,
   "id": "51052dd2",
   "metadata": {},
   "outputs": [],
   "source": [
    "import numpy as np\n",
    "import pandas as pd\n",
    "pd.set_option('display.max_columns', 100) # Show all columns when looking at dataframe"
   ]
  },
  {
   "cell_type": "code",
   "execution_count": 13,
   "id": "a05ff254",
   "metadata": {},
   "outputs": [
    {
     "data": {
      "text/html": [
       "<div>\n",
       "<style scoped>\n",
       "    .dataframe tbody tr th:only-of-type {\n",
       "        vertical-align: middle;\n",
       "    }\n",
       "\n",
       "    .dataframe tbody tr th {\n",
       "        vertical-align: top;\n",
       "    }\n",
       "\n",
       "    .dataframe thead th {\n",
       "        text-align: right;\n",
       "    }\n",
       "</style>\n",
       "<table border=\"1\" class=\"dataframe\">\n",
       "  <thead>\n",
       "    <tr style=\"text-align: right;\">\n",
       "      <th></th>\n",
       "      <th>SEQN</th>\n",
       "      <th>ALQ101</th>\n",
       "      <th>ALQ110</th>\n",
       "      <th>ALQ130</th>\n",
       "      <th>SMQ020</th>\n",
       "      <th>RIAGENDR</th>\n",
       "      <th>RIDAGEYR</th>\n",
       "      <th>RIDRETH1</th>\n",
       "      <th>DMDCITZN</th>\n",
       "      <th>DMDEDUC2</th>\n",
       "      <th>DMDMARTL</th>\n",
       "      <th>DMDHHSIZ</th>\n",
       "      <th>WTINT2YR</th>\n",
       "      <th>SDMVPSU</th>\n",
       "      <th>SDMVSTRA</th>\n",
       "      <th>INDFMPIR</th>\n",
       "      <th>BPXSY1</th>\n",
       "      <th>BPXDI1</th>\n",
       "      <th>BPXSY2</th>\n",
       "      <th>BPXDI2</th>\n",
       "      <th>BMXWT</th>\n",
       "      <th>BMXHT</th>\n",
       "      <th>BMXBMI</th>\n",
       "      <th>BMXLEG</th>\n",
       "      <th>BMXARML</th>\n",
       "      <th>BMXARMC</th>\n",
       "      <th>BMXWAIST</th>\n",
       "      <th>HIQ210</th>\n",
       "    </tr>\n",
       "  </thead>\n",
       "  <tbody>\n",
       "    <tr>\n",
       "      <th>0</th>\n",
       "      <td>83732</td>\n",
       "      <td>1.0</td>\n",
       "      <td>NaN</td>\n",
       "      <td>1.0</td>\n",
       "      <td>1</td>\n",
       "      <td>1</td>\n",
       "      <td>62</td>\n",
       "      <td>3</td>\n",
       "      <td>1.0</td>\n",
       "      <td>5.0</td>\n",
       "      <td>1.0</td>\n",
       "      <td>2</td>\n",
       "      <td>134671.37</td>\n",
       "      <td>1</td>\n",
       "      <td>125</td>\n",
       "      <td>4.39</td>\n",
       "      <td>128.0</td>\n",
       "      <td>70.0</td>\n",
       "      <td>124.0</td>\n",
       "      <td>64.0</td>\n",
       "      <td>94.8</td>\n",
       "      <td>184.5</td>\n",
       "      <td>27.8</td>\n",
       "      <td>43.3</td>\n",
       "      <td>43.6</td>\n",
       "      <td>35.9</td>\n",
       "      <td>101.1</td>\n",
       "      <td>2.0</td>\n",
       "    </tr>\n",
       "    <tr>\n",
       "      <th>1</th>\n",
       "      <td>83733</td>\n",
       "      <td>1.0</td>\n",
       "      <td>NaN</td>\n",
       "      <td>6.0</td>\n",
       "      <td>1</td>\n",
       "      <td>1</td>\n",
       "      <td>53</td>\n",
       "      <td>3</td>\n",
       "      <td>2.0</td>\n",
       "      <td>3.0</td>\n",
       "      <td>3.0</td>\n",
       "      <td>1</td>\n",
       "      <td>24328.56</td>\n",
       "      <td>1</td>\n",
       "      <td>125</td>\n",
       "      <td>1.32</td>\n",
       "      <td>146.0</td>\n",
       "      <td>88.0</td>\n",
       "      <td>140.0</td>\n",
       "      <td>88.0</td>\n",
       "      <td>90.4</td>\n",
       "      <td>171.4</td>\n",
       "      <td>30.8</td>\n",
       "      <td>38.0</td>\n",
       "      <td>40.0</td>\n",
       "      <td>33.2</td>\n",
       "      <td>107.9</td>\n",
       "      <td>NaN</td>\n",
       "    </tr>\n",
       "    <tr>\n",
       "      <th>2</th>\n",
       "      <td>83734</td>\n",
       "      <td>1.0</td>\n",
       "      <td>NaN</td>\n",
       "      <td>NaN</td>\n",
       "      <td>1</td>\n",
       "      <td>1</td>\n",
       "      <td>78</td>\n",
       "      <td>3</td>\n",
       "      <td>1.0</td>\n",
       "      <td>3.0</td>\n",
       "      <td>1.0</td>\n",
       "      <td>2</td>\n",
       "      <td>12400.01</td>\n",
       "      <td>1</td>\n",
       "      <td>131</td>\n",
       "      <td>1.51</td>\n",
       "      <td>138.0</td>\n",
       "      <td>46.0</td>\n",
       "      <td>132.0</td>\n",
       "      <td>44.0</td>\n",
       "      <td>83.4</td>\n",
       "      <td>170.1</td>\n",
       "      <td>28.8</td>\n",
       "      <td>35.6</td>\n",
       "      <td>37.0</td>\n",
       "      <td>31.0</td>\n",
       "      <td>116.5</td>\n",
       "      <td>2.0</td>\n",
       "    </tr>\n",
       "  </tbody>\n",
       "</table>\n",
       "</div>"
      ],
      "text/plain": [
       "    SEQN  ALQ101  ALQ110  ALQ130  SMQ020  RIAGENDR  RIDAGEYR  RIDRETH1  \\\n",
       "0  83732     1.0     NaN     1.0       1         1        62         3   \n",
       "1  83733     1.0     NaN     6.0       1         1        53         3   \n",
       "2  83734     1.0     NaN     NaN       1         1        78         3   \n",
       "\n",
       "   DMDCITZN  DMDEDUC2  DMDMARTL  DMDHHSIZ   WTINT2YR  SDMVPSU  SDMVSTRA  \\\n",
       "0       1.0       5.0       1.0         2  134671.37        1       125   \n",
       "1       2.0       3.0       3.0         1   24328.56        1       125   \n",
       "2       1.0       3.0       1.0         2   12400.01        1       131   \n",
       "\n",
       "   INDFMPIR  BPXSY1  BPXDI1  BPXSY2  BPXDI2  BMXWT  BMXHT  BMXBMI  BMXLEG  \\\n",
       "0      4.39   128.0    70.0   124.0    64.0   94.8  184.5    27.8    43.3   \n",
       "1      1.32   146.0    88.0   140.0    88.0   90.4  171.4    30.8    38.0   \n",
       "2      1.51   138.0    46.0   132.0    44.0   83.4  170.1    28.8    35.6   \n",
       "\n",
       "   BMXARML  BMXARMC  BMXWAIST  HIQ210  \n",
       "0     43.6     35.9     101.1     2.0  \n",
       "1     40.0     33.2     107.9     NaN  \n",
       "2     37.0     31.0     116.5     2.0  "
      ]
     },
     "execution_count": 13,
     "metadata": {},
     "output_type": "execute_result"
    }
   ],
   "source": [
    "# Download NHANES 2015-2016 data\n",
    "url = 'https://raw.githubusercontent.com/kshedden/statswpy/master/NHANES/merged/nhanes_2015_2016.csv'\n",
    "df = pd.read_csv(url)\n",
    "df.head(3)"
   ]
  },
  {
   "cell_type": "code",
   "execution_count": 12,
   "id": "1971dc01",
   "metadata": {},
   "outputs": [
    {
     "data": {
      "text/html": [
       "<div>\n",
       "<style scoped>\n",
       "    .dataframe tbody tr th:only-of-type {\n",
       "        vertical-align: middle;\n",
       "    }\n",
       "\n",
       "    .dataframe tbody tr th {\n",
       "        vertical-align: top;\n",
       "    }\n",
       "\n",
       "    .dataframe thead th {\n",
       "        text-align: right;\n",
       "    }\n",
       "</style>\n",
       "<table border=\"1\" class=\"dataframe\">\n",
       "  <thead>\n",
       "    <tr style=\"text-align: right;\">\n",
       "      <th></th>\n",
       "      <th>BMXWT</th>\n",
       "      <th>BMXHT</th>\n",
       "      <th>BMXBMI</th>\n",
       "      <th>BMXLEG</th>\n",
       "      <th>BMXARML</th>\n",
       "      <th>BMXARMC</th>\n",
       "      <th>BMXWAIST</th>\n",
       "    </tr>\n",
       "  </thead>\n",
       "  <tbody>\n",
       "    <tr>\n",
       "      <th>0</th>\n",
       "      <td>94.8</td>\n",
       "      <td>184.5</td>\n",
       "      <td>27.8</td>\n",
       "      <td>43.3</td>\n",
       "      <td>43.6</td>\n",
       "      <td>35.9</td>\n",
       "      <td>101.1</td>\n",
       "    </tr>\n",
       "    <tr>\n",
       "      <th>1</th>\n",
       "      <td>90.4</td>\n",
       "      <td>171.4</td>\n",
       "      <td>30.8</td>\n",
       "      <td>38.0</td>\n",
       "      <td>40.0</td>\n",
       "      <td>33.2</td>\n",
       "      <td>107.9</td>\n",
       "    </tr>\n",
       "  </tbody>\n",
       "</table>\n",
       "</div>"
      ],
      "text/plain": [
       "   BMXWT  BMXHT  BMXBMI  BMXLEG  BMXARML  BMXARMC  BMXWAIST\n",
       "0   94.8  184.5    27.8    43.3     43.6     35.9     101.1\n",
       "1   90.4  171.4    30.8    38.0     40.0     33.2     107.9"
      ]
     },
     "execution_count": 12,
     "metadata": {},
     "output_type": "execute_result"
    }
   ],
   "source": [
    "keep = [column for column in df.columns if 'BMX' in column]\n",
    "df_BMX = df[keep]\n",
    "df_BMX.head(2)"
   ]
  },
  {
   "cell_type": "markdown",
   "id": "cbc3cb82",
   "metadata": {},
   "source": [
    "Indexing and Changing valuues with `.loc[]` and `.iloc[]`"
   ]
  },
  {
   "cell_type": "code",
   "execution_count": 15,
   "id": "4ca51ad4",
   "metadata": {},
   "outputs": [],
   "source": [
    "# df.loc[:, keep]\n",
    "\n",
    "# index_bool = np.isin(df.columns, keep)\n",
    "# df.iloc[:,index_bool].head() # Indexing with boolean list\n",
    "\n",
    "# df[condition returning bool_series]\n",
    "# df.loc[conditional, :]"
   ]
  },
  {
   "cell_type": "markdown",
   "id": "002bbe74",
   "metadata": {},
   "source": [
    "Multivariate Distributions:\n",
    "- joint plots allow us to see these marginal distributions in histograms and a shared scatterplot"
   ]
  },
  {
   "cell_type": "markdown",
   "id": "1a4741fb",
   "metadata": {},
   "source": [
    "Unit Testing\n",
    "\n",
    "Look at Unit Testing vids (pytest or unittest)\n",
    "\n",
    "Look at \"Python Tutorial: if \\__name__ == \\'__main__'\""
   ]
  },
  {
   "cell_type": "code",
   "execution_count": null,
   "id": "7d1f755c",
   "metadata": {},
   "outputs": [],
   "source": [
    "# The following line does these steps, reading the code from left to right:\n",
    "# 1 Group the data by every combination of gender, education, and marital status\n",
    "# 2 Count the number of people in each cell using the 'size' method\n",
    "# 3 Pivot the marital status results into the columns (using unstack)\n",
    "# 4 Fill any empty cells with 0\n",
    "# 5 Normalize the data by row\n",
    "db.groupby([\"RIAGENDRx\", \"DMDEDUC2x\", \"DMDMARTLx\"]).size().unstack().fillna(0).apply(lambda x: x/x.sum(), axis=1)"
   ]
  },
  {
   "cell_type": "markdown",
   "id": "d17c6687",
   "metadata": {},
   "source": [
    "## Wk4 Populations and Samples\n",
    "\n",
    "- Sampling:\n",
    "    1. Specifically define target population. \n",
    "        - Define setting (where, when, etc.)\n",
    "    2. Get a census/sample\n",
    "        - Census\n",
    "        - Probability Sampling\n",
    "            - construct sampling frame\n",
    "            - determine probability of selection for every unit\n",
    "            - randomly select units from list (frame)\n",
    "            - attempt to measure units\n",
    "        - Non-Probability Sampling\n",
    "            - selection not random (and probabilities can't be determined)\n",
    "            - prone to bias\n",
    "- Probability Sampling\n",
    "    - SRSampling: Every unit and potential sample of units has equal probability of being drawn\n",
    "        - observations are i.i.d. (independent and identically distributed)\n",
    "    - Complex Sampling: population divided into strata, clusters randomly sampled within strata, units randomly sammpled from within clusers\n",
    "        - $probability_{selection} = (\\frac{a}{A})(\\frac{b}{B})$ where we select $a$ of $A$ clusters then select $b$ of $B$ units\n"
   ]
  },
  {
   "cell_type": "markdown",
   "id": "73deb66d",
   "metadata": {},
   "source": [
    "- Non-probability Sampling\n",
    "    - data divided strata ot clusters but not randomly\n",
    "    - cheaper than probability sampling\n",
    "    - no statistical basis for making inference\n",
    "    - 2 approaches:\n",
    "        - Pseudo-Randomization:\n",
    "            - combine (stack) non-probability and probability samples\n",
    "            - then estimate probability of being included in non-probability sample\n",
    "            - treat estimated probabilities as \"known\", and use probability sampling methods\n",
    "        - Calibration:\n",
    "            - compute weights for responding units to mirror known population"
   ]
  },
  {
   "cell_type": "markdown",
   "id": "b288cecc",
   "metadata": {},
   "source": [
    "- Sampling Distributions\n",
    "    - distibution of survey estimates if we selected many random samples using same sampling design, and computed an estimate from each\n",
    "    - CLT: the distribution *of the sample means* of a large number of i.i.d. random variables approaches a normal distribution, regardless of the shape of the original population distribution. (i.e. as the sample size increases, the sampling distribution of the mean becomes approximately normal, regardless of the population distribution)\n",
    "- Sampling variance / sampling errors"
   ]
  },
  {
   "cell_type": "markdown",
   "id": "92000f36",
   "metadata": {},
   "source": [
    "#### Making Population Inference Based on One Sample\n",
    "- CI estimate for parameters of interest (e.g. mean, regr. coeff, proportion, etc.)\n",
    "- Hypothesis testing about parameters of interest\n",
    "\n",
    "- Assume normality in sampling distributions of estimate\n",
    "\n",
    "1. Compute point estimate\n",
    "    - unbiased point estimate: average of all possible values for point estimate (EV) is equal to true parameter value\n",
    "2. Estimate sampling variance\n",
    "    - compute unbiased estimate of the variance\n",
    "    - Standard error: square root of variance\n",
    "\n",
    "CI is Best Estimate +/- MoE\n",
    "\n",
    "$$Test Stat = \\frac{estimate - null value}{standard error}$$"
   ]
  },
  {
   "cell_type": "markdown",
   "id": "de993d90",
   "metadata": {},
   "source": []
  }
 ],
 "metadata": {
  "kernelspec": {
   "display_name": "Python 3 (ipykernel)",
   "language": "python",
   "name": "python3"
  },
  "language_info": {
   "codemirror_mode": {
    "name": "ipython",
    "version": 3
   },
   "file_extension": ".py",
   "mimetype": "text/x-python",
   "name": "python",
   "nbconvert_exporter": "python",
   "pygments_lexer": "ipython3",
   "version": "3.10.9"
  },
  "varInspector": {
   "cols": {
    "lenName": 16,
    "lenType": 16,
    "lenVar": 40
   },
   "kernels_config": {
    "python": {
     "delete_cmd_postfix": "",
     "delete_cmd_prefix": "del ",
     "library": "var_list.py",
     "varRefreshCmd": "print(var_dic_list())"
    },
    "r": {
     "delete_cmd_postfix": ") ",
     "delete_cmd_prefix": "rm(",
     "library": "var_list.r",
     "varRefreshCmd": "cat(var_dic_list()) "
    }
   },
   "types_to_exclude": [
    "module",
    "function",
    "builtin_function_or_method",
    "instance",
    "_Feature"
   ],
   "window_display": false
  }
 },
 "nbformat": 4,
 "nbformat_minor": 5
}
