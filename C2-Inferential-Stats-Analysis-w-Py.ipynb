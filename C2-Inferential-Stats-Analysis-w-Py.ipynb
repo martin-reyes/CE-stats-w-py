{
 "cells": [
  {
   "cell_type": "markdown",
   "id": "65da83cb",
   "metadata": {},
   "source": [
    "# Wk 1 Overview & Inference Procedures"
   ]
  },
  {
   "cell_type": "code",
   "execution_count": null,
   "id": "d6ba3feb",
   "metadata": {},
   "outputs": [],
   "source": []
  },
  {
   "cell_type": "markdown",
   "id": "f1ea8e65",
   "metadata": {},
   "source": [
    "# Wk 2 Confidence Intervals\n",
    "\n",
    "- One Proportion\n",
    "\n",
    "- Two Proportions\n",
    "\n",
    "- One Mean\n",
    "\n",
    "- Difference in Means for Paired Data\n",
    "\n",
    "- Difference in Means for Independent Groups\n",
    "\n",
    "- Confidence Inference in Python\n"
   ]
  },
  {
   "cell_type": "code",
   "execution_count": null,
   "id": "1032ba2a",
   "metadata": {},
   "outputs": [],
   "source": []
  },
  {
   "cell_type": "markdown",
   "id": "c8fa0dee",
   "metadata": {},
   "source": [
    "# Wk 3 Hypothesis Testing\n",
    "\n",
    "- One Proportion\n",
    "\n",
    "- Two Proportions\n",
    "\n",
    "- P-values\n",
    "\n",
    "- One mean\n",
    "\n",
    "- Difference in Means for Paired Data\n",
    "\n",
    "- Difference in Means for Independent Groups\n",
    "\n",
    "- Hypothesis Testing in Python\n"
   ]
  },
  {
   "cell_type": "code",
   "execution_count": null,
   "id": "10b2b97e",
   "metadata": {},
   "outputs": [],
   "source": []
  },
  {
   "cell_type": "markdown",
   "id": "bf72e477",
   "metadata": {},
   "source": [
    "# Wk 4 Learner Application"
   ]
  },
  {
   "cell_type": "code",
   "execution_count": null,
   "id": "a612c9ae",
   "metadata": {},
   "outputs": [],
   "source": []
  }
 ],
 "metadata": {
  "kernelspec": {
   "display_name": "Python 3 (ipykernel)",
   "language": "python",
   "name": "python3"
  },
  "language_info": {
   "codemirror_mode": {
    "name": "ipython",
    "version": 3
   },
   "file_extension": ".py",
   "mimetype": "text/x-python",
   "name": "python",
   "nbconvert_exporter": "python",
   "pygments_lexer": "ipython3",
   "version": "3.10.9"
  },
  "varInspector": {
   "cols": {
    "lenName": 16,
    "lenType": 16,
    "lenVar": 40
   },
   "kernels_config": {
    "python": {
     "delete_cmd_postfix": "",
     "delete_cmd_prefix": "del ",
     "library": "var_list.py",
     "varRefreshCmd": "print(var_dic_list())"
    },
    "r": {
     "delete_cmd_postfix": ") ",
     "delete_cmd_prefix": "rm(",
     "library": "var_list.r",
     "varRefreshCmd": "cat(var_dic_list()) "
    }
   },
   "types_to_exclude": [
    "module",
    "function",
    "builtin_function_or_method",
    "instance",
    "_Feature"
   ],
   "window_display": false
  }
 },
 "nbformat": 4,
 "nbformat_minor": 5
}
