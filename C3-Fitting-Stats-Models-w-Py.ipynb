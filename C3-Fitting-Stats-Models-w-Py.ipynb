{
 "cells": [
  {
   "cell_type": "markdown",
   "id": "663891eb",
   "metadata": {},
   "source": [
    "# WK1 Overview & Considerations for Stats Modeling"
   ]
  },
  {
   "cell_type": "code",
   "execution_count": null,
   "id": "8d190c47",
   "metadata": {},
   "outputs": [],
   "source": []
  },
  {
   "cell_type": "markdown",
   "id": "69d3bfee",
   "metadata": {},
   "source": [
    "# Wk2 Fitting Models to Independent Data\n",
    "\n",
    "- Linear Regression\n",
    "    - Inference\n",
    "\n",
    "- Logistic Regression\n",
    "    - Inference"
   ]
  },
  {
   "cell_type": "code",
   "execution_count": null,
   "id": "45db385f",
   "metadata": {},
   "outputs": [],
   "source": []
  },
  {
   "cell_type": "markdown",
   "id": "5f7ffefe",
   "metadata": {},
   "source": [
    "# Wk3 Fitting Models to Dependent Data\n",
    "\n",
    "- Multilevel Linear Regression Models\n",
    "\n",
    "- Multilevel Logistic Regression Models\n",
    "\n",
    "- Marginal Linear Regression Models\n",
    "\n",
    "- Marginal Logistic Regression Models"
   ]
  },
  {
   "cell_type": "code",
   "execution_count": null,
   "id": "c4f2cb06",
   "metadata": {},
   "outputs": [],
   "source": []
  },
  {
   "cell_type": "markdown",
   "id": "3e751ea8",
   "metadata": {},
   "source": [
    "# Wk4 Special Topics\n",
    "\n",
    "- Bayesian Approaches to Statistics and Modeling\n",
    "\n",
    "- Bayesian Approaches Case Study\n",
    "\n",
    "- Bayesian in Python"
   ]
  },
  {
   "cell_type": "code",
   "execution_count": null,
   "id": "c0e18e5d",
   "metadata": {},
   "outputs": [],
   "source": []
  }
 ],
 "metadata": {
  "kernelspec": {
   "display_name": "Python 3 (ipykernel)",
   "language": "python",
   "name": "python3"
  },
  "language_info": {
   "codemirror_mode": {
    "name": "ipython",
    "version": 3
   },
   "file_extension": ".py",
   "mimetype": "text/x-python",
   "name": "python",
   "nbconvert_exporter": "python",
   "pygments_lexer": "ipython3",
   "version": "3.10.9"
  },
  "varInspector": {
   "cols": {
    "lenName": 16,
    "lenType": 16,
    "lenVar": 40
   },
   "kernels_config": {
    "python": {
     "delete_cmd_postfix": "",
     "delete_cmd_prefix": "del ",
     "library": "var_list.py",
     "varRefreshCmd": "print(var_dic_list())"
    },
    "r": {
     "delete_cmd_postfix": ") ",
     "delete_cmd_prefix": "rm(",
     "library": "var_list.r",
     "varRefreshCmd": "cat(var_dic_list()) "
    }
   },
   "types_to_exclude": [
    "module",
    "function",
    "builtin_function_or_method",
    "instance",
    "_Feature"
   ],
   "window_display": false
  }
 },
 "nbformat": 4,
 "nbformat_minor": 5
}
